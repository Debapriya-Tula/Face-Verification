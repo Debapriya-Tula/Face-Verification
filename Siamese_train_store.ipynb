{
 "cells": [
  {
   "cell_type": "code",
   "execution_count": null,
   "metadata": {},
   "outputs": [],
   "source": [
    "# Importing the required modules\n",
    "\n",
    "from keras import backend as K, models\n",
    "from keras.models import *\n",
    "from keras.layers import *\n",
    "from keras.layers.normalization import BatchNormalization\n",
    "from keras.applications import VGG16\n",
    "from keras.regularizers import l2\n",
    "from keras.activations import relu\n",
    "import os\n",
    "from os.path import join as join_\n",
    "import numpy as np\n",
    "from PIL import Image"
   ]
  },
  {
   "cell_type": "code",
   "execution_count": null,
   "metadata": {},
   "outputs": [],
   "source": [
    "# Setting up the dataset\n",
    "\n",
    "SET_DIR = 'dataset/'\n",
    "NUM_CLASSES = len(os.listdir('dataset'))\n",
    "\n",
    "# The shape which VGG19 accepts as input and thus each image is resized to\n",
    "image_shape = (224, 224, 3)\n",
    "\n",
    "# NUM_EXAMPLES is the number of (A,P,N) triplets chosen for the same class (N belongs to a different class of course)\n",
    "NUM_EXAMPLES = 15\n",
    "\n",
    "# Triplets list will contain anchor(A), positive(P) and negative(N) triplets.\n",
    "triplets = []\n",
    "A = P = N = []\n",
    "\n",
    "# creating anchor, positive, negative triplets\n",
    "for _ in range(NUM_EXAMPLES):\n",
    "    for direc in os.listdir(SET_DIR):\n",
    "        dir_path = SET_DIR + direc\n",
    "        dir_contents = os.listdir(dir_path)\n",
    "        length = len(dir_contents)\n",
    "        \n",
    "        anchor = np.asarray(Image.open(join_(dir_path, dir_contents[np.random.randint(0, length)])))/255\n",
    "        # anchor.shape = (200, 180, 3)\n",
    "        \n",
    "        # Padding with zeros for each channel in RGB\n",
    "        anchor = np.array([np.pad(a, ((22,22), (12,12)), 'constant') for a in anchor.T]).T\n",
    "        \n",
    "        positive = np.asarray(Image.open(join_(dir_path, dir_contents[np.random.randint(0, length)])))/255\n",
    "        positive = np.array([np.pad(a, ((22,22), (12,12)), 'constant') for a in positive.T]).T\n",
    "        \n",
    "        neg_dir = os.listdir(SET_DIR)[np.random.randint(NUM_CLASSES)]\n",
    "        while neg_dir == direc: \n",
    "            neg_dir = os.listdir(SET_DIR)[np.random.randint(NUM_CLASSES)]\n",
    "            \n",
    "        length_negative = len(os.listdir(SET_DIR + neg_dir))\n",
    "        negative = np.asarray(Image.open(\n",
    "                       join_(SET_DIR + neg_dir, \n",
    "                        os.listdir(SET_DIR + neg_dir)[np.random.randint(0, length_negative)])))/255\n",
    "        \n",
    "        negative = np.array([np.pad(a, ((22,22), (12,12)), 'constant') for a in negative.T]).T\n",
    "        \n",
    "        # append triplet\n",
    "        triplets.append([anchor, positive, negative])\n",
    "        A.append(anchor)\n",
    "        P.append(positive)\n",
    "        N.append(negative)"
   ]
  },
  {
   "cell_type": "code",
   "execution_count": null,
   "metadata": {},
   "outputs": [],
   "source": [
    "def triplet_function(vects, alpha=0.2):\n",
    "    x, y, z = vects\n",
    "    sum_square_xy = K.sum(K.square(x - y), axis=1, keepdims=True)\n",
    "    sum_square_xz = K.sum(K.square(x - z), axis=1, keepdims=True)\n",
    "    return K.sum(K.maximum(sum_square_xy - sum_square_xz + alpha, 0), axis=0)"
   ]
  },
  {
   "cell_type": "code",
   "execution_count": null,
   "metadata": {},
   "outputs": [],
   "source": [
    "# Using the VGG16 model defined in keras.applications\n",
    "\n",
    "def VGG():\n",
    "    image_input = Input(shape=(224, 224, 3))\n",
    "    model = VGG16(input_tensor=image_input, weights='imagenet', include_top=True)\n",
    "    model.layers[-1].activation = relu\n",
    "    x_out = Dense(64)(model.layers[-1].output)\n",
    "    \n",
    "    new_model = Model(inputs=image_input, outputs=x_out)\n",
    "    return new_model"
   ]
  },
  {
   "cell_type": "code",
   "execution_count": null,
   "metadata": {},
   "outputs": [],
   "source": [
    "def get_model():\n",
    "    anchor = Input(shape=image_shape, name='anchor')\n",
    "    positive = Input(shape=image_shape, name='positive')\n",
    "    negative = Input(shape=image_shape, name='negative')\n",
    "    \n",
    "    # Passing each image through the VGG model\n",
    "    req_model = VGG()\n",
    "    \n",
    "    # Pass the images through the same model\n",
    "    anchor_encoding = req_model(anchor)\n",
    "    positive_encoding = req_model(positive)\n",
    "    negative_encoding = req_model(negative)\n",
    "\n",
    "    # Incorporating the triplet loss in the SimVecLayer\n",
    "    SimVecLayer = Lambda(triplet_fucntion, output_shape=(1,))\n",
    "    \n",
    "    sim_APN = SimVecLayer([anchor_encoding, positive_encoding, negative_encoding])\n",
    "    \n",
    "    return Model(inputs=[anchor, positive, negative], outputs=sim_APN)"
   ]
  },
  {
   "cell_type": "code",
   "execution_count": null,
   "metadata": {},
   "outputs": [],
   "source": [
    "model = get_model()\n",
    "\n",
    "# Compile the model with a loss and optimizer\n",
    "model.compile(loss='mean_squared_error', optimizer='adam', metrics=['mae']) \n",
    "\n",
    "model.summary()"
   ]
  },
  {
   "cell_type": "code",
   "execution_count": null,
   "metadata": {},
   "outputs": [],
   "source": [
    "from IPython.display import SVG\n",
    "from keras.utils.vis_utils import model_to_dot\n",
    "\n",
    "SVG(model_to_dot(model).create(prog='dot', format='svg'))"
   ]
  },
  {
   "cell_type": "code",
   "execution_count": null,
   "metadata": {},
   "outputs": [],
   "source": [
    "# Train the model (done over the intel cloud) \n",
    "A, P, N = np.array(A), np.array(P), np.array(N)\n",
    "\n",
    "model.fit(x = [A, P, N], y = np.zeros((A.shape[0],1)),\n",
    "                  epochs=100, verbose=1,\n",
    "                  batch_size=64, validation_split=0.3,\n",
    "                  callbacks=[EarlyStopping(monitor='val_loss', patience=5)])\n",
    "\n",
    "model.save('model.h5')"
   ]
  },
  {
   "cell_type": "code",
   "execution_count": null,
   "metadata": {},
   "outputs": [],
   "source": []
  }
 ],
 "metadata": {
  "kernelspec": {
   "display_name": "Python 3",
   "language": "python",
   "name": "python3"
  },
  "language_info": {
   "codemirror_mode": {
    "name": "ipython",
    "version": 3
   },
   "file_extension": ".py",
   "mimetype": "text/x-python",
   "name": "python",
   "nbconvert_exporter": "python",
   "pygments_lexer": "ipython3",
   "version": "3.6.8"
  }
 },
 "nbformat": 4,
 "nbformat_minor": 2
}
